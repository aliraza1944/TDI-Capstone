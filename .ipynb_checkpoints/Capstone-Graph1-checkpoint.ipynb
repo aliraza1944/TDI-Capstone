{
 "cells": [
  {
   "cell_type": "code",
   "execution_count": 2,
   "metadata": {},
   "outputs": [],
   "source": [
    "import numpy as np\n",
    "import pandas as pd\n",
    "import matplotlib.pyplot as plt\n"
   ]
  },
  {
   "cell_type": "code",
   "execution_count": null,
   "metadata": {},
   "outputs": [],
   "source": [
    "PARKING_VIOL_CSV = \"C:/Users/Ali/Desktop/TDI/Capstone/Parking_Violations_Issued_-_Fiscal_Year_2019.csv\"\n",
    "VIOL_CODES = \"C:/Users/Ali/Desktop/TDI/Capstone/ParkingViolationCodes_Nov_2018.csv\"\n",
    "\n",
    "df = pd.read_csv(PARKING_VIOL_CSV)\n",
    "codes_df = pd.read_csv(VIOL_CODES)\n",
    "df.info()"
   ]
  },
  {
   "cell_type": "code",
   "execution_count": null,
   "metadata": {},
   "outputs": [],
   "source": [
    "codes_df.head(5)"
   ]
  },
  {
   "cell_type": "code",
   "execution_count": 11,
   "metadata": {},
   "outputs": [],
   "source": [
    "codes = codes_df['VIOLATION CODE'].values\n",
    "codes_desc = codes_df['VIOLATION DESCRIPTION'].values"
   ]
  },
  {
   "cell_type": "code",
   "execution_count": 33,
   "metadata": {},
   "outputs": [
    {
     "name": "stdout",
     "output_type": "stream",
     "text": [
      "[858, 200, 752, 634, 248788, 2573, 471759, 4175, 62203, 66634, 10254, 21, 28421, 1013584, 22, 247693, 136721, 49998, 316306, 795751, 1803467, 4805, 1534, 10794, 258, 1317, 4058, 0, 53, 583, 156727, 19, 15, 17, 2239, 1098298, 485195, 1165883, 4050, 554898, 3035, 59698, 3, 120, 7002, 590984, 124982, 74293, 574, 89692, 63685, 873, 44247, 4943, 32, 934, 18, 14, 246, 4983, 12283, 5034, 1508, 11300, 75, 38449, 7660, 24095, 233847, 314154, 550943, 14955, 5964, 127493, 9873, 14, 13754, 51522, 6977, 3134, 142, 31883, 4223, 99650, 19273, 37, 6, 6, 2706, 75, 482, 22, 5, 208, 91, 49310, 2675]\n"
     ]
    }
   ],
   "source": [
    "#calculating violations count by violation code.\n",
    "violation_count = []\n",
    "\n",
    "for i in range(len(codes)):\n",
    "    count = len(df[df['Violation Code'] == codes[i]])\n",
    "    violation_count.append(count)\n",
    "    \n",
    "print(violation_count)"
   ]
  },
  {
   "cell_type": "code",
   "execution_count": 52,
   "metadata": {},
   "outputs": [
    {
     "name": "stdout",
     "output_type": "stream",
     "text": [
      "[20, 37, 35, 13, 19, 45, 39, 70, 36, 6]\n"
     ]
    }
   ],
   "source": [
    "temp_violation_count = violation_count.copy()\n",
    "temp_violation_count.sort(reverse=True)\n",
    "top10_viol_idx = []\n",
    "\n",
    "for i in range(10):\n",
    "    top10_viol_idx.append(violation_count.index(temp_violation_count[i]))\n",
    "    \n",
    "print(top10_viol_idx)"
   ]
  },
  {
   "cell_type": "code",
   "execution_count": 60,
   "metadata": {},
   "outputs": [
    {
     "name": "stdout",
     "output_type": "stream",
     "text": [
      "[1803467, 1165883, 1098298, 1013584, 795751, 590984, 554898, 550943, 485195]\n"
     ]
    }
   ],
   "source": [
    "print(temp_violation_count[0:9])"
   ]
  },
  {
   "cell_type": "code",
   "execution_count": 1,
   "metadata": {},
   "outputs": [
    {
     "ename": "NameError",
     "evalue": "name 'top10_viol_idx' is not defined",
     "output_type": "error",
     "traceback": [
      "\u001b[1;31m---------------------------------------------------------------------------\u001b[0m",
      "\u001b[1;31mNameError\u001b[0m                                 Traceback (most recent call last)",
      "\u001b[1;32m<ipython-input-1-c930c5d1de30>\u001b[0m in \u001b[0;36m<module>\u001b[1;34m\u001b[0m\n\u001b[0;32m      1\u001b[0m \u001b[1;31m#plotting the data\u001b[0m\u001b[1;33m\u001b[0m\u001b[1;33m\u001b[0m\u001b[1;33m\u001b[0m\u001b[0m\n\u001b[1;32m----> 2\u001b[1;33m \u001b[0mx\u001b[0m \u001b[1;33m=\u001b[0m \u001b[0mtop10_viol_idx\u001b[0m\u001b[1;33m.\u001b[0m\u001b[0mcopy\u001b[0m\u001b[1;33m(\u001b[0m\u001b[1;33m)\u001b[0m\u001b[1;33m\u001b[0m\u001b[1;33m\u001b[0m\u001b[0m\n\u001b[0m\u001b[0;32m      3\u001b[0m \u001b[0my\u001b[0m \u001b[1;33m=\u001b[0m \u001b[0mtemp_violation_count\u001b[0m\u001b[1;33m[\u001b[0m\u001b[1;36m0\u001b[0m\u001b[1;33m:\u001b[0m\u001b[1;36m10\u001b[0m\u001b[1;33m]\u001b[0m\u001b[1;33m.\u001b[0m\u001b[0mcopy\u001b[0m\u001b[1;33m(\u001b[0m\u001b[1;33m)\u001b[0m\u001b[1;33m\u001b[0m\u001b[1;33m\u001b[0m\u001b[0m\n\u001b[0;32m      4\u001b[0m \u001b[0mx_desc\u001b[0m \u001b[1;33m=\u001b[0m \u001b[1;33m[\u001b[0m\u001b[1;33m]\u001b[0m\u001b[1;33m\u001b[0m\u001b[1;33m\u001b[0m\u001b[0m\n\u001b[0;32m      5\u001b[0m \u001b[1;33m\u001b[0m\u001b[0m\n",
      "\u001b[1;31mNameError\u001b[0m: name 'top10_viol_idx' is not defined"
     ]
    }
   ],
   "source": [
    "#plotting the data\n",
    "x = top10_viol_idx.copy()\n",
    "y = temp_violation_count[0:10].copy()\n",
    "x_desc = []\n",
    "\n",
    "for i in range(10):\n",
    "    x_desc.append(codes_desc[top10_viol_idx[i]])\n",
    "\n",
    "plt.rcParams['figure.figsize'] = [10, 10]\n",
    "y_pos = np.arange(len(y))\n",
    "plt.barh(y_pos, y)\n",
    "plt.yticks(y_pos, x_desc)\n",
    "plt.ylabel(\"Violation Type\")\n",
    "plt.xlabel(\"No. of Violations\")\n",
    "plt.show()\n",
    "\n",
    "##This following graph shows the top 10 violations in NYC."
   ]
  },
  {
   "cell_type": "code",
   "execution_count": null,
   "metadata": {},
   "outputs": [],
   "source": []
  }
 ],
 "metadata": {
  "kernelspec": {
   "display_name": "Python 3",
   "language": "python",
   "name": "python3"
  },
  "language_info": {
   "codemirror_mode": {
    "name": "ipython",
    "version": 3
   },
   "file_extension": ".py",
   "mimetype": "text/x-python",
   "name": "python",
   "nbconvert_exporter": "python",
   "pygments_lexer": "ipython3",
   "version": "3.7.3"
  }
 },
 "nbformat": 4,
 "nbformat_minor": 2
}
