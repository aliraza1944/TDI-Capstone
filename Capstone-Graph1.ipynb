{
 "cells": [
  {
   "cell_type": "code",
   "execution_count": 2,
   "metadata": {},
   "outputs": [],
   "source": [
    "import numpy as np\n",
    "import pandas as pd\n",
    "import matplotlib.pyplot as plt\n"
   ]
  },
  {
   "cell_type": "code",
   "execution_count": 3,
   "metadata": {},
   "outputs": [
    {
     "name": "stderr",
     "output_type": "stream",
     "text": [
      "C:\\Users\\Ali\\AppData\\Local\\Continuum\\anaconda3\\lib\\site-packages\\IPython\\core\\interactiveshell.py:3049: DtypeWarning: Columns (17,18,20,22,23,29,30,31,32,36,38,39) have mixed types. Specify dtype option on import or set low_memory=False.\n",
      "  interactivity=interactivity, compiler=compiler, result=result)\n"
     ]
    },
    {
     "name": "stdout",
     "output_type": "stream",
     "text": [
      "<class 'pandas.core.frame.DataFrame'>\n",
      "RangeIndex: 11467506 entries, 0 to 11467505\n",
      "Data columns (total 43 columns):\n",
      "Summons Number                       int64\n",
      "Plate ID                             object\n",
      "Registration State                   object\n",
      "Plate Type                           object\n",
      "Issue Date                           object\n",
      "Violation Code                       int64\n",
      "Vehicle Body Type                    object\n",
      "Vehicle Make                         object\n",
      "Issuing Agency                       object\n",
      "Street Code1                         int64\n",
      "Street Code2                         int64\n",
      "Street Code3                         int64\n",
      "Vehicle Expiration Date              int64\n",
      "Violation Location                   float64\n",
      "Violation Precinct                   int64\n",
      "Issuer Precinct                      int64\n",
      "Issuer Code                          int64\n",
      "Issuer Command                       object\n",
      "Issuer Squad                         object\n",
      "Violation Time                       object\n",
      "Time First Observed                  object\n",
      "Violation County                     object\n",
      "Violation In Front Of Or Opposite    object\n",
      "House Number                         object\n",
      "Street Name                          object\n",
      "Intersecting Street                  object\n",
      "Date First Observed                  int64\n",
      "Law Section                          int64\n",
      "Sub Division                         object\n",
      "Violation Legal Code                 object\n",
      "Days Parking In Effect               object\n",
      "From Hours In Effect                 object\n",
      "To Hours In Effect                   object\n",
      "Vehicle Color                        object\n",
      "Unregistered Vehicle?                float64\n",
      "Vehicle Year                         int64\n",
      "Meter Number                         object\n",
      "Feet From Curb                       int64\n",
      "Violation Post Code                  object\n",
      "Violation Description                object\n",
      "No Standing or Stopping Violation    float64\n",
      "Hydrant Violation                    float64\n",
      "Double Parking Violation             float64\n",
      "dtypes: float64(5), int64(13), object(25)\n",
      "memory usage: 3.7+ GB\n"
     ]
    }
   ],
   "source": [
    "PARKING_VIOL_CSV = \"C:/Users/Ali/Desktop/TDI/Capstone/Parking_Violations_Issued_-_Fiscal_Year_2019.csv\"\n",
    "VIOL_CODES = \"C:/Users/Ali/Desktop/TDI/Capstone/ParkingViolationCodes_Nov_2018.csv\"\n",
    "\n",
    "df = pd.read_csv(PARKING_VIOL_CSV)\n",
    "codes_df = pd.read_csv(VIOL_CODES)\n",
    "df.info()"
   ]
  },
  {
   "cell_type": "code",
   "execution_count": 4,
   "metadata": {},
   "outputs": [
    {
     "data": {
      "text/html": [
       "<div>\n",
       "<style scoped>\n",
       "    .dataframe tbody tr th:only-of-type {\n",
       "        vertical-align: middle;\n",
       "    }\n",
       "\n",
       "    .dataframe tbody tr th {\n",
       "        vertical-align: top;\n",
       "    }\n",
       "\n",
       "    .dataframe thead th {\n",
       "        text-align: right;\n",
       "    }\n",
       "</style>\n",
       "<table border=\"1\" class=\"dataframe\">\n",
       "  <thead>\n",
       "    <tr style=\"text-align: right;\">\n",
       "      <th></th>\n",
       "      <th>VIOLATION CODE</th>\n",
       "      <th>VIOLATION DESCRIPTION</th>\n",
       "      <th>Manhattan  96th St. &amp; below\n",
       "(Fine Amount $)</th>\n",
       "      <th>All Other Areas\n",
       "(Fine Amount $)</th>\n",
       "    </tr>\n",
       "  </thead>\n",
       "  <tbody>\n",
       "    <tr>\n",
       "      <th>0</th>\n",
       "      <td>1</td>\n",
       "      <td>FAILURE TO DISPLAY BUS PERMIT</td>\n",
       "      <td>515</td>\n",
       "      <td>515</td>\n",
       "    </tr>\n",
       "    <tr>\n",
       "      <th>1</th>\n",
       "      <td>2</td>\n",
       "      <td>NO OPERATOR NAM/ADD/PH DISPLAY</td>\n",
       "      <td>515</td>\n",
       "      <td>515</td>\n",
       "    </tr>\n",
       "    <tr>\n",
       "      <th>2</th>\n",
       "      <td>3</td>\n",
       "      <td>UNAUTHORIZED PASSENGER PICK-UP</td>\n",
       "      <td>515</td>\n",
       "      <td>515</td>\n",
       "    </tr>\n",
       "    <tr>\n",
       "      <th>3</th>\n",
       "      <td>4</td>\n",
       "      <td>BUS PARKING IN LOWER MANHATTAN</td>\n",
       "      <td>115</td>\n",
       "      <td>115</td>\n",
       "    </tr>\n",
       "    <tr>\n",
       "      <th>4</th>\n",
       "      <td>5</td>\n",
       "      <td>BUS LANE VIOLATION</td>\n",
       "      <td>115</td>\n",
       "      <td>115</td>\n",
       "    </tr>\n",
       "  </tbody>\n",
       "</table>\n",
       "</div>"
      ],
      "text/plain": [
       "   VIOLATION CODE           VIOLATION DESCRIPTION  \\\n",
       "0               1   FAILURE TO DISPLAY BUS PERMIT   \n",
       "1               2  NO OPERATOR NAM/ADD/PH DISPLAY   \n",
       "2               3  UNAUTHORIZED PASSENGER PICK-UP   \n",
       "3               4  BUS PARKING IN LOWER MANHATTAN   \n",
       "4               5              BUS LANE VIOLATION   \n",
       "\n",
       "   Manhattan  96th St. & below\\n(Fine Amount $)  \\\n",
       "0                                           515   \n",
       "1                                           515   \n",
       "2                                           515   \n",
       "3                                           115   \n",
       "4                                           115   \n",
       "\n",
       "   All Other Areas\\n(Fine Amount $)  \n",
       "0                               515  \n",
       "1                               515  \n",
       "2                               515  \n",
       "3                               115  \n",
       "4                               115  "
      ]
     },
     "execution_count": 4,
     "metadata": {},
     "output_type": "execute_result"
    }
   ],
   "source": [
    "codes_df.head(5)"
   ]
  },
  {
   "cell_type": "code",
   "execution_count": 5,
   "metadata": {},
   "outputs": [],
   "source": [
    "codes = codes_df['VIOLATION CODE'].values\n",
    "codes_desc = codes_df['VIOLATION DESCRIPTION'].values"
   ]
  },
  {
   "cell_type": "code",
   "execution_count": 6,
   "metadata": {},
   "outputs": [
    {
     "name": "stdout",
     "output_type": "stream",
     "text": [
      "[858, 200, 752, 634, 248788, 2573, 471759, 4175, 62203, 66634, 10254, 21, 28421, 1013584, 22, 247693, 136721, 49998, 316306, 795751, 1803467, 4805, 1534, 10794, 258, 1317, 4058, 0, 53, 583, 156727, 19, 15, 17, 2239, 1098298, 485195, 1165883, 4050, 554898, 3035, 59698, 3, 120, 7002, 590984, 124982, 74293, 574, 89692, 63685, 873, 44247, 4943, 32, 934, 18, 14, 246, 4983, 12283, 5034, 1508, 11300, 75, 38449, 7660, 24095, 233847, 314154, 550943, 14955, 5964, 127493, 9873, 14, 13754, 51522, 6977, 3134, 142, 31883, 4223, 99650, 19273, 37, 6, 6, 2706, 75, 482, 22, 5, 208, 91, 49310, 2675]\n"
     ]
    }
   ],
   "source": [
    "#calculating violations count by violation code.\n",
    "violation_count = []\n",
    "\n",
    "for i in range(len(codes)):\n",
    "    count = len(df[df['Violation Code'] == codes[i]])\n",
    "    violation_count.append(count)\n",
    "    \n",
    "print(violation_count)"
   ]
  },
  {
   "cell_type": "code",
   "execution_count": 7,
   "metadata": {},
   "outputs": [
    {
     "name": "stdout",
     "output_type": "stream",
     "text": [
      "[20, 37, 35, 13, 19, 45, 39, 70, 36, 6]\n"
     ]
    }
   ],
   "source": [
    "temp_violation_count = violation_count.copy()\n",
    "temp_violation_count.sort(reverse=True)\n",
    "top10_viol_idx = []\n",
    "\n",
    "for i in range(10):\n",
    "    top10_viol_idx.append(violation_count.index(temp_violation_count[i]))\n",
    "    \n",
    "print(top10_viol_idx)"
   ]
  },
  {
   "cell_type": "code",
   "execution_count": 8,
   "metadata": {},
   "outputs": [
    {
     "name": "stdout",
     "output_type": "stream",
     "text": [
      "[1803467, 1165883, 1098298, 1013584, 795751, 590984, 554898, 550943, 485195]\n"
     ]
    }
   ],
   "source": [
    "print(temp_violation_count[0:9])"
   ]
  },
  {
   "cell_type": "code",
   "execution_count": 9,
   "metadata": {},
   "outputs": [
    {
     "data": {
      "image/png": "[encoded data removed]",
      "text/plain": [
       "<Figure size 720x720 with 1 Axes>"
      ]
     },
     "metadata": {
      "needs_background": "light"
     },
     "output_type": "display_data"
    }
   ],
   "source": [
    "#plotting the data\n",
    "x = top10_viol_idx.copy()\n",
    "y = temp_violation_count[0:10].copy()\n",
    "x_desc = []\n",
    "\n",
    "for i in range(10):\n",
    "    x_desc.append(codes_desc[top10_viol_idx[i]])\n",
    "\n",
    "plt.rcParams['figure.figsize'] = [10, 10]\n",
    "y_pos = np.arange(len(y))\n",
    "plt.barh(y_pos, y)\n",
    "plt.yticks(y_pos, x_desc)\n",
    "plt.ylabel(\"Violation Type\")\n",
    "plt.xlabel(\"No. of Violations\")\n",
    "plt.show()\n",
    "\n",
    "##This following graph shows the top 10 violations in NYC."
   ]
  },
  {
   "cell_type": "code",
   "execution_count": null,
   "metadata": {},
   "outputs": [],
   "source": []
  }
 ],
 "metadata": {
  "kernelspec": {
   "display_name": "Python 3",
   "language": "python",
   "name": "python3"
  },
  "language_info": {
   "codemirror_mode": {
    "name": "ipython",
    "version": 3
   },
   "file_extension": ".py",
   "mimetype": "text/x-python",
   "name": "python",
   "nbconvert_exporter": "python",
   "pygments_lexer": "ipython3",
   "version": "3.7.3"
  }
 },
 "nbformat": 4,
 "nbformat_minor": 2
}
