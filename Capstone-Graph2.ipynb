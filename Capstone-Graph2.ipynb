{
 "cells": [
  {
   "cell_type": "code",
   "execution_count": 33,
   "metadata": {},
   "outputs": [],
   "source": [
    "import numpy as np\n",
    "import pandas as pd\n",
    "import matplotlib.pyplot as plt\n"
   ]
  },
  {
   "cell_type": "code",
   "execution_count": 34,
   "metadata": {},
   "outputs": [
    {
     "name": "stdout",
     "output_type": "stream",
     "text": [
      "<class 'pandas.core.frame.DataFrame'>\n",
      "RangeIndex: 11467506 entries, 0 to 11467505\n",
      "Data columns (total 43 columns):\n",
      "Summons Number                       int64\n",
      "Plate ID                             object\n",
      "Registration State                   object\n",
      "Plate Type                           object\n",
      "Issue Date                           object\n",
      "Violation Code                       int64\n",
      "Vehicle Body Type                    object\n",
      "Vehicle Make                         object\n",
      "Issuing Agency                       object\n",
      "Street Code1                         int64\n",
      "Street Code2                         int64\n",
      "Street Code3                         int64\n",
      "Vehicle Expiration Date              int64\n",
      "Violation Location                   float64\n",
      "Violation Precinct                   int64\n",
      "Issuer Precinct                      int64\n",
      "Issuer Code                          int64\n",
      "Issuer Command                       object\n",
      "Issuer Squad                         object\n",
      "Violation Time                       object\n",
      "Time First Observed                  object\n",
      "Violation County                     object\n",
      "Violation In Front Of Or Opposite    object\n",
      "House Number                         object\n",
      "Street Name                          object\n",
      "Intersecting Street                  object\n",
      "Date First Observed                  int64\n",
      "Law Section                          int64\n",
      "Sub Division                         object\n",
      "Violation Legal Code                 object\n",
      "Days Parking In Effect               object\n",
      "From Hours In Effect                 object\n",
      "To Hours In Effect                   object\n",
      "Vehicle Color                        object\n",
      "Unregistered Vehicle?                float64\n",
      "Vehicle Year                         int64\n",
      "Meter Number                         object\n",
      "Feet From Curb                       int64\n",
      "Violation Post Code                  object\n",
      "Violation Description                object\n",
      "No Standing or Stopping Violation    float64\n",
      "Hydrant Violation                    float64\n",
      "Double Parking Violation             float64\n",
      "dtypes: float64(5), int64(13), object(25)\n",
      "memory usage: 3.7+ GB\n"
     ]
    }
   ],
   "source": [
    "PARKING_VIOL_CSV = \"C:/Users/Ali/Desktop/TDI/Capstone/Parking_Violations_Issued_-_Fiscal_Year_2019.csv\"\n",
    "\n",
    "df = pd.read_csv(PARKING_VIOL_CSV)\n",
    "df.info()"
   ]
  },
  {
   "cell_type": "code",
   "execution_count": 35,
   "metadata": {},
   "outputs": [
    {
     "name": "stdout",
     "output_type": "stream",
     "text": [
      "11418430\n"
     ]
    }
   ],
   "source": [
    "violation_by_county = []\n",
    "counties = ['Brooklyn','Queens','Staten Island', 'Bronx', 'Manhattan']\n",
    "violation_by_county.append(len(df[df['Violation County'] == 'BK']) + len(df[df['Violation County'] == 'K']))\n",
    "violation_by_county.append(len(df[df['Violation County'] == 'Q']) + len(df[df['Violation County'] == 'QUEEN']) + len(df[df['Violation County'] == 'QN']))\n",
    "violation_by_county.append(len(df[df['Violation County'] == 'R']) + len(df[df['Violation County'] == 'ST']))\n",
    "violation_by_county.append(len(df[df['Violation County'] == 'BX']))\n",
    "violation_by_county.append(len(df[df['Violation County'] == 'MN']) + len(df[df['Violation County'] == 'NY']))\n",
    "\n",
    "print(sum(violation_by_county))"
   ]
  },
  {
   "cell_type": "markdown",
   "metadata": {},
   "source": [
    "### The plot shows violations per county for NY."
   ]
  },
  {
   "cell_type": "code",
   "execution_count": 37,
   "metadata": {},
   "outputs": [
    {
     "data": {
      "image/png": "[encoded data removed]",
      "text/plain": [
       "<Figure size 720x720 with 1 Axes>"
      ]
     },
     "metadata": {
      "needs_background": "light"
     },
     "output_type": "display_data"
    }
   ],
   "source": [
    "#plotting the data\n",
    "x = violation_by_county\n",
    "y = counties\n",
    "\n",
    "plt.rcParams['figure.figsize'] = [10, 10]\n",
    "y_pos = np.arange(len(y))\n",
    "plt.barh(y_pos, x)\n",
    "plt.yticks(y_pos, y)\n",
    "plt.ylabel('Violations')\n",
    "plt.xlabel('Counties')\n",
    "plt.show()"
   ]
  },
  {
   "cell_type": "code",
   "execution_count": null,
   "metadata": {},
   "outputs": [],
   "source": []
  }
 ],
 "metadata": {
  "kernelspec": {
   "display_name": "Python 3",
   "language": "python",
   "name": "python3"
  },
  "language_info": {
   "codemirror_mode": {
    "name": "ipython",
    "version": 3
   },
   "file_extension": ".py",
   "mimetype": "text/x-python",
   "name": "python",
   "nbconvert_exporter": "python",
   "pygments_lexer": "ipython3",
   "version": "3.7.3"
  }
 },
 "nbformat": 4,
 "nbformat_minor": 2
}
